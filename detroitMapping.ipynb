{
 "cells": [
  {
   "cell_type": "code",
   "execution_count": 1,
   "metadata": {},
   "outputs": [
    {
     "data": {
      "application/vnd.jupyter.widget-view+json": {
       "model_id": "73dc3d175ad049b5b321306adaaa7ae6",
       "version_major": 2,
       "version_minor": 0
      },
      "text/plain": [
       "Map(center=[42.3314, -83.0458], controls=(ZoomControl(options=['position', 'zoom_in_text', 'zoom_in_title', 'z…"
      ]
     },
     "metadata": {},
     "output_type": "display_data"
    }
   ],
   "source": [
    "#Testing ipyleaflet mapping in VSCode\n",
    "#Note: ipyleaflet mainly uses Jupyter, issues may occur\n",
    "\n",
    "from ipyleaflet import Map, Marker\n",
    "\n",
    "center = (42.3314, -83.0458) #Detroit Latitude and Longitude\n",
    "map = Map(center=center, zoom=12) #Set map display to coordinates (center), set zoom to 12\n",
    "\n",
    "#Add a draggable marker to the map\n",
    "#Dragging the marker updates the marker.location value in Python\n",
    "marker = Marker(location=center, draggable=True)\n",
    "map.add_control(marker)\n",
    "\n",
    "display(map) #Function displaying the declared map variable"
   ]
  },
  {
   "cell_type": "code",
   "execution_count": 33,
   "metadata": {},
   "outputs": [
    {
     "name": "stdout",
     "output_type": "stream",
     "text": [
      "[['ï»¿OBJECTID', 'ZIPCODE', 'POSTALCITY', 'POPULATION'], ['1', '48201', 'Detroit', '14500'], ['2', '48202', 'Detroit', '17260'], ['3', '48203', 'Detroit', '22168'], ['4', '48204', 'Detroit', '21738'], ['5', '48205', 'Detroit', '34056'], ['6', '48206', 'Detroit', '15712'], ['7', '48207', 'Detroit', '21704'], ['8', '48208', 'Detroit', '8090'], ['9', '48209', 'Detroit', '27096'], ['10', '48210', 'Detroit', '27155'], ['11', '48211', 'Detroit', '5447'], ['12', '48212', 'Detroit', '43192'], ['13', '48213', 'Detroit', '19088'], ['14', '48214', 'Detroit', '18959'], ['15', '48215', 'Detroit', '10520'], ['16', '48216', 'Detroit', '5031'], ['17', '48217', 'Detroit', '6437'], ['18', '48219', 'Detroit', '46811'], ['19', '48221', 'Detroit', '38204'], ['20', '48223', 'Detroit', '22956'], ['21', '48224', 'Detroit', '39633'], ['22', '48226', 'Detroit', '6307'], ['23', '48227', 'Detroit', '40266'], ['24', '48228', 'Detroit', '53893'], ['25', '48234', 'Detroit', '31442'], ['26', '48235', 'Detroit', '45188'], ['27', '48236', 'Grosse Pointe', '31286'], ['28', '48238', 'Detroit', '25747'], ['29', '48239', 'Redford', '36814'], ['30', '48243', 'Detroit', '5058']]\n"
     ]
    },
    {
     "data": {
      "application/vnd.jupyter.widget-view+json": {
       "model_id": "201baf0b4d134cb7b3dc837a7cc2778b",
       "version_major": 2,
       "version_minor": 0
      },
      "text/plain": [
       "Map(center=[42.3314, -83.0458], controls=(ZoomControl(options=['position', 'zoom_in_text', 'zoom_in_title', 'z…"
      ]
     },
     "metadata": {},
     "output_type": "display_data"
    }
   ],
   "source": [
    "#Test 2: GeoJSON importing\n",
    "#Test 3: CSV importing\n",
    "#CSV data source: https://www.zip-codes.com/city/mi-detroit.asp#zipcodes\n",
    "import os\n",
    "import csv\n",
    "import json\n",
    "from ipyleaflet import Map, GeoJSON\n",
    "\n",
    "#Reading GeoJSON file to a variable\n",
    "with open(\"Detroit_Zip_Codes.geojson\", \"r\") as file:\n",
    "    data = json.load(file)\n",
    "\n",
    "#Reading CSV file to a list\n",
    "csv_file = open(\"Detroit_Zip_Codes.csv\")\n",
    "csv_reader = csv.reader(csv_file)\n",
    "csv_data = list(csv_reader)\n",
    "csv_file.close()\n",
    "print(csv_data)\n",
    "\n",
    "#initializing map\n",
    "center = (42.3314, -83.0458) #Detroit Latitude and Longitude\n",
    "map = Map(center=center, zoom=12) #Set map display to coordinates (center), set zoom to 12\n",
    "\n",
    "#preparing GeoJSON overlay\n",
    "geo_json = GeoJSON(\n",
    "\tdata=data,\n",
    "\tstyle={\n",
    "\t\t\"opacity\": 1\n",
    "\t},\n",
    "\thover_style={\n",
    "\t\t\"color\": \"white\", \"fillOpacity\": 0.4\n",
    "\t}\n",
    ")\n",
    "\n",
    "#adding overlay\n",
    "map.add(geo_json)\n",
    "\n",
    "#final display\n",
    "display(map) #Function displaying the declared map variable"
   ]
  },
  {
   "cell_type": "code",
   "execution_count": 34,
   "metadata": {},
   "outputs": [
    {
     "data": {
      "application/vnd.jupyter.widget-view+json": {
       "model_id": "3a937c3534524d5cb1e1fe32247acbda",
       "version_major": 2,
       "version_minor": 0
      },
      "text/plain": [
       "Map(center=[42.3314, -83.0458], controls=(ZoomControl(options=['position', 'zoom_in_text', 'zoom_in_title', 'z…"
      ]
     },
     "metadata": {},
     "output_type": "display_data"
    }
   ],
   "source": [
    "#Test 4: Interpreting CSV data and applying to GeoJSON display styles\n",
    "#CSV data source: https://www.zip-codes.com/city/mi-detroit.asp#zipcodes\n",
    "import os\n",
    "import csv\n",
    "import json\n",
    "from ipyleaflet import Map, GeoJSON\n",
    "\n",
    "#Reading GeoJSON file to a variable\n",
    "with open(\"Detroit_Zip_Codes.geojson\", \"r\") as file:\n",
    "    data = json.load(file)\n",
    "\n",
    "#Reading CSV file to a list\n",
    "csv_file = open(\"Detroit_Zip_Codes.csv\")\n",
    "csv_reader = csv.reader(csv_file)\n",
    "csv_data = list(csv_reader)\n",
    "csv_file.close()\n",
    "#print(csv_data)\n",
    "\n",
    "#initializing map\n",
    "center = (42.3314, -83.0458) #Detroit Latitude and Longitude\n",
    "map = Map(center=center, zoom=12) #Set map display to coordinates (center), set zoom to 12\n",
    "\n",
    "#determine color function, calcualtes population and assigns a color\n",
    "def determine_color(feature):\n",
    "    #extracting feature ID and csv data index for calculation\n",
    "    #print(feature)\n",
    "    featureID = feature[\"properties\"][\"OBJECTID\"]\n",
    "    #print(featureID)\n",
    "    #print(csv_data[featureID][3])\n",
    "    population = csv_data[featureID][3]\n",
    "    \n",
    "    #determining population color and returning corresponding styles for this feature\n",
    "    '''\n",
    "    Returns a color based on the population value.\n",
    "    Green: Low Population\n",
    "    Yellow: Moderate population\n",
    "    Orange: High population\n",
    "    Red: Very high population\n",
    "    '''\n",
    "    population = int(population)\n",
    "    if population >= 50000:\n",
    "        return {\n",
    "            \"fillColor\": \"red\"\n",
    "        }\n",
    "    elif 50000 > population >= 30000:\n",
    "        return {\n",
    "            \"fillColor\": \"orange\"\n",
    "        }\n",
    "    elif 30000 > population >= 10000:\n",
    "        return {\n",
    "            \"fillColor\": \"yellow\"\n",
    "        }\n",
    "    else:\n",
    "        return {\n",
    "            \"fillColor\": \"green\"\n",
    "        }\n",
    "\n",
    "#preparing GeoJSON overlay\n",
    "geo_json = GeoJSON(\n",
    "\tdata=data,\n",
    "\tstyle={\n",
    "\t\t\"opacity\": 1\n",
    "\t},\n",
    "\thover_style={\n",
    "\t\t\"color\": \"white\", \"fillOpacity\": 0.4\n",
    "\t},\n",
    "\tstyle_callback=determine_color #this is the function call for each feature (Zip Code blocks)\n",
    ")\n",
    "\n",
    "#adding overlay\n",
    "map.add(geo_json)\n",
    "\n",
    "#final display\n",
    "display(map) #Function displaying the declared map variable"
   ]
  },
  {
   "cell_type": "code",
   "execution_count": 31,
   "metadata": {},
   "outputs": [
    {
     "data": {
      "application/vnd.jupyter.widget-view+json": {
       "model_id": "de7a0017bfb14779b60b356c73075339",
       "version_major": 2,
       "version_minor": 0
      },
      "text/plain": [
       "Map(center=[42.3314, -83.0458], controls=(ZoomControl(options=['position', 'zoom_in_text', 'zoom_in_title', 'z…"
      ]
     },
     "metadata": {},
     "output_type": "display_data"
    }
   ],
   "source": [
    "#Test 5: Working with more data\n",
    "#Zip Code GeoJSON source: https://detroitdata.org/dataset/detroit-zip-codes\n",
    "#Universities GeoJSON source: https://data.detroitmi.gov/datasets/de1464fec6d64b9591e109cfab6a3f38_0/explore?location=42.382353%2C-83.118040%2C10.93\n",
    "#CSV data source: https://www.zip-codes.com/city/mi-detroit.asp#zipcodes\n",
    "import csv\n",
    "import json\n",
    "from ipyleaflet import Map, GeoJSON, LayersControl\n",
    "\n",
    "#Reading Zip Code GeoJSON file to a variable\n",
    "with open(\"Detroit_Zip_Codes.geojson\", \"r\") as file:\n",
    "    zipData = json.load(file)\n",
    "\n",
    "#Reading CSV file to a list\n",
    "csv_file = open(\"Detroit_Zip_Codes.csv\")\n",
    "csv_reader = csv.reader(csv_file)\n",
    "csv_data = list(csv_reader)\n",
    "csv_file.close()\n",
    "#print(csv_data)\n",
    "\n",
    "#Reading Universities GeoJSON\n",
    "with open(\"Detroit_Colleges_and_Universities.geojson\", \"r\") as file:\n",
    "    schoolData = json.load(file)\n",
    "\n",
    "#initializing map\n",
    "center = (42.3314, -83.0458) #Detroit Latitude and Longitude\n",
    "map = Map(center=center, zoom=12) #Set map display to coordinates (center), set zoom to 12\n",
    "\n",
    "#determine color function, calcualtes population and assigns a color\n",
    "def determine_color(feature):\n",
    "    #extracting feature ID and csv data index for calculation\n",
    "    #print(feature)\n",
    "    featureID = feature[\"properties\"][\"OBJECTID\"] #this nested list call gets the Object ID from the feature for index matching\n",
    "    #print(featureID)\n",
    "    #print(csv_data[featureID][3])\n",
    "    population = csv_data[featureID][3] #matching the featureID to a nested list call to get correct population number\n",
    "    \n",
    "    #determining population color and returning corresponding styles for this feature\n",
    "    '''\n",
    "    Returns a color based on the population value.\n",
    "    Green: Low population\n",
    "    Yellow: Moderate population\n",
    "    Orange: High population\n",
    "    Red: Very high population\n",
    "    '''\n",
    "    population = int(population)\n",
    "    if population >= 50000: #Very High\n",
    "        return {\n",
    "            \"fillColor\": \"red\"\n",
    "        }\n",
    "    elif 50000 > population >= 30000: #High\n",
    "        return {\n",
    "            \"fillColor\": \"orange\"\n",
    "        }\n",
    "    elif 30000 > population >= 10000: #Moderate\n",
    "        return {\n",
    "            \"fillColor\": \"yellow\"\n",
    "        }\n",
    "    else: #Low\n",
    "        return {\n",
    "            \"fillColor\": \"green\"\n",
    "        }\n",
    "\n",
    "#preparing GeoJSON overlays\n",
    "pop_geo_json = GeoJSON(\n",
    "\tdata=zipData, #Assigns the zip code geojson data \n",
    "\tname=\"ZIP Population Density\", #Name for Layers control\n",
    "\tstyle={\n",
    "\t\t\"opacity\": 1\n",
    "\t},\n",
    "\thover_style={\n",
    "\t\t\"color\": \"white\", \"fillOpacity\": 0.4 #zip code areas\n",
    "\t},\n",
    "\tstyle_callback=determine_color #this is the function call for each feature (Zip Code blocks)\n",
    ")\n",
    "\n",
    "school_geo_json = GeoJSON(\n",
    "    data=schoolData, #Assigns the school geojson data\n",
    "    name=\"Universities\", #Name for Layers control\n",
    "    )\n",
    "\n",
    "#adding overlays\n",
    "#Population geo\n",
    "map.add(pop_geo_json)\n",
    "#Universities geo\n",
    "map.add(school_geo_json)\n",
    "#layers control\n",
    "control = LayersControl(position=\"topright\")\n",
    "map.add(control)\n",
    "\n",
    "#final map display\n",
    "display(map) #Function displaying the declared map variable"
   ]
  }
 ],
 "metadata": {
  "kernelspec": {
   "display_name": ".venv",
   "language": "python",
   "name": "python3"
  },
  "language_info": {
   "codemirror_mode": {
    "name": "ipython",
    "version": 3
   },
   "file_extension": ".py",
   "mimetype": "text/x-python",
   "name": "python",
   "nbconvert_exporter": "python",
   "pygments_lexer": "ipython3",
   "version": "3.12.8"
  }
 },
 "nbformat": 4,
 "nbformat_minor": 2
}
